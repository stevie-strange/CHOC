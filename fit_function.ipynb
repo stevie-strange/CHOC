{
 "cells": [
  {
   "cell_type": "markdown",
   "metadata": {},
   "source": [
    "## Analysis of CHO and FAT consumption for cycling activities\n",
    "\n",
    "Short abstract"
   ]
  },
  {
   "cell_type": "markdown",
   "metadata": {},
   "source": [
    "### Indirect calorimetry as starting point"
   ]
  },
  {
   "cell_type": "markdown",
   "metadata": {},
   "source": [
    "### Preparation - Import the necessary Python modules"
   ]
  },
  {
   "cell_type": "code",
   "execution_count": 24,
   "metadata": {},
   "outputs": [],
   "source": [
    "import numpy as np\n",
    "import scipy.optimize\n",
    "import matplotlib.pyplot as plt\n",
    "\n"
   ]
  },
  {
   "cell_type": "markdown",
   "metadata": {},
   "source": [
    "### Setup of basic data & create a diagram\n",
    "Currently, the data are extracted manually out of the diagram shown above."
   ]
  },
  {
   "cell_type": "code",
   "execution_count": 25,
   "metadata": {},
   "outputs": [],
   "source": [
    "# CHO consumption (g/h) vs. power output in watts\n",
    "xs = np.array([0, 75, 100, 125, 150, 175, 200, 225, 275])\n",
    "ys = np.array([21, 38, 50, 63, 83, 104, 121, 142, 250])\n",
    "\n",
    "# FAT consumption (g/h) vs. power output in watts\n",
    "xs2 = np.array([0, 125, 150, 175, 200, 225, 250, 275])\n",
    "ys2 = np.array([13, 31, 31, 33, 29, 25, 17, 0])"
   ]
  },
  {
   "cell_type": "markdown",
   "metadata": {},
   "source": [
    "### Print CHO & FAT consumption as diagram"
   ]
  },
  {
   "cell_type": "code",
   "execution_count": 26,
   "metadata": {},
   "outputs": [
    {
     "data": {
      "text/plain": [
       "<matplotlib.legend.Legend at 0x7fe36021b9a0>"
      ]
     },
     "execution_count": 26,
     "metadata": {},
     "output_type": "execute_result"
    },
    {
     "data": {
      "image/png": "[encoded data removed]",
      "text/plain": [
       "<Figure size 432x288 with 1 Axes>"
      ]
     },
     "metadata": {
      "needs_background": "light"
     },
     "output_type": "display_data"
    }
   ],
   "source": [
    "plt.plot(xs, ys, '.', label=\"CHO\")\n",
    "plt.plot(xs2, ys2, '+', label=\"FAT\")\n",
    "plt.title(\"Original data\")\n",
    "plt.xlabel(\"Power (watts)\")\n",
    "plt.ylabel(\"CHO/FAT (g/h)\")\n",
    "plt.legend(loc=\"upper left\")"
   ]
  },
  {
   "cell_type": "code",
   "execution_count": 34,
   "metadata": {},
   "outputs": [],
   "source": [
    "def monoExp(x, m, t, b):\n",
    "    return m * np.exp(-t * x) + b\n",
    "\n",
    "def squareExp(x, a, b, c):\n",
    "    return a * np.square(x) + b * x + c\n",
    "\n",
    "def fitQuality(func, yarray):\n",
    "    sqDiffs = np.square(yarray - func)\n",
    "    sqDiffsFromMean = np.square(yarray - np.mean(yarray))\n",
    "    rSq = 1 - np.sum(sqDiffs) / np.sum(sqDiffsFromMean)\n",
    "    return rSq"
   ]
  },
  {
   "cell_type": "code",
   "execution_count": 35,
   "metadata": {},
   "outputs": [],
   "source": [
    "# perform the fit\n",
    "p0 = (1, -0.1, 1)\n",
    "params, cv = scipy.optimize.curve_fit(monoExp, xs, ys, p0)\n",
    "m, t, b = params\n",
    "\n",
    "fit = np.polyfit(xs2, ys2, 2)\n",
    "a, d, c = fit"
   ]
  },
  {
   "cell_type": "markdown",
   "metadata": {},
   "source": []
  },
  {
   "cell_type": "code",
   "execution_count": 36,
   "metadata": {},
   "outputs": [
    {
     "name": "stdout",
     "output_type": "stream",
     "text": [
      "R² = 0.9936760064381591\n"
     ]
    }
   ],
   "source": [
    "# determine quality of the fit\n",
    "squaredDiffs = np.square(ys - monoExp(xs, m, t, b))\n",
    "squaredDiffsFromMean = np.square(ys - np.mean(ys))\n",
    "rSquared = 1 - np.sum(squaredDiffs) / np.sum(squaredDiffsFromMean)\n",
    "print(f\"R² = {rSquared}\")"
   ]
  },
  {
   "cell_type": "code",
   "execution_count": 37,
   "metadata": {},
   "outputs": [
    {
     "name": "stdout",
     "output_type": "stream",
     "text": [
      "R² = 0.9250283256198031\n"
     ]
    }
   ],
   "source": [
    "# determine quality of the fit\n",
    "squaredDiffs = np.square(ys2 - squareExp(xs2, a, d, c))\n",
    "squaredDiffsFromMean = np.square(ys2 - np.mean(ys2))\n",
    "rSquared = 1 - np.sum(squaredDiffs) / np.sum(squaredDiffsFromMean)\n",
    "print(f\"R² = {rSquared}\")"
   ]
  },
  {
   "cell_type": "code",
   "execution_count": 40,
   "metadata": {},
   "outputs": [
    {
     "name": "stdout",
     "output_type": "stream",
     "text": [
      "CHO fit: R² = 0.9936760064381591\n"
     ]
    }
   ],
   "source": [
    "# Quality of the CHO curve fit\n",
    "#rS = fitQuality(monoExp(xs,m,t,b), ys)\n",
    "#print(f\"R² = {rS}\")\n",
    "print(f\"CHO fit: R² = {fitQuality(monoExp(xs,m,t,b), ys)}\")"
   ]
  },
  {
   "cell_type": "code",
   "execution_count": 39,
   "metadata": {},
   "outputs": [
    {
     "name": "stdout",
     "output_type": "stream",
     "text": [
      "R2 = 0.9250283256198031\n"
     ]
    }
   ],
   "source": [
    "# Quality of the FAT curve fit\n",
    "print(f\"FAT fit: R² = {fitQuality(squareExp(xs2, a,d,c), ys2)}\")"
   ]
  },
  {
   "cell_type": "code",
   "execution_count": null,
   "metadata": {},
   "outputs": [],
   "source": []
  },
  {
   "cell_type": "code",
   "execution_count": 33,
   "metadata": {},
   "outputs": [
    {
     "data": {
      "text/plain": [
       "Text(0, 0.5, 'CHO (g/h)')"
      ]
     },
     "execution_count": 33,
     "metadata": {},
     "output_type": "execute_result"
    },
    {
     "data": {
      "image/png": "[encoded data removed]",
      "text/plain": [
       "<Figure size 432x288 with 1 Axes>"
      ]
     },
     "metadata": {
      "needs_background": "light"
     },
     "output_type": "display_data"
    }
   ],
   "source": [
    "# plot the results\n",
    "plt.plot(xs, ys, '.', label=\"data\")\n",
    "plt.plot(xs, monoExp(xs, m, t, b), '--', label=\"fitted\")\n",
    "plt.plot(xs2, ys2, '+', label=\"fatdata\")\n",
    "plt.plot(xs2, squareExp(xs2, a, d, c), '--', label=\"fat\")\n",
    "plt.title(\"Fitted Exponential Curve\")\n",
    "plt.xlabel(\"Power (watts)\")\n",
    "plt.ylabel(\"CHO (g/h)\")"
   ]
  },
  {
   "cell_type": "code",
   "execution_count": 32,
   "metadata": {},
   "outputs": [
    {
     "name": "stdout",
     "output_type": "stream",
     "text": [
      "Y = 16.4082248903284 * e^(-0.009753356363022837 * x) + 6.514511413977633\n"
     ]
    }
   ],
   "source": [
    "# inspect the parameters\n",
    "print(f\"Y = {m} * e^({t} * x) + {b}\")"
   ]
  },
  {
   "cell_type": "code",
   "execution_count": 114,
   "metadata": {},
   "outputs": [
    {
     "data": {
      "text/plain": [
       "Text(0, 0.5, 'CHO (g/h)')"
      ]
     },
     "execution_count": 114,
     "metadata": {},
     "output_type": "execute_result"
    },
    {
     "data": {
      "image/png": "[encoded data removed]",
      "text/plain": [
       "<Figure size 432x288 with 1 Axes>"
      ]
     },
     "metadata": {
      "needs_background": "light"
     },
     "output_type": "display_data"
    }
   ],
   "source": [
    "xs2 = np.arange(150,500,25)\n",
    "ys2 = monoExp(xs2, m, t, b)\n",
    "\n",
    "plt.plot(xs, ys, '.', label=\"data\")\n",
    "plt.plot(xs2, ys2, '--', label=\"fitted\")\n",
    "plt.title(\"Extrapolated Exponential Curve\")\n",
    "plt.xlabel(\"Power (watts)\")\n",
    "plt.ylabel(\"CHO (g/h)\")"
   ]
  },
  {
   "cell_type": "markdown",
   "metadata": {},
   "source": [
    "Use Case: Return value for a specific wattage"
   ]
  },
  {
   "cell_type": "code",
   "execution_count": 116,
   "metadata": {},
   "outputs": [
    {
     "name": "stdout",
     "output_type": "stream",
     "text": [
      "111.19580507076063\n"
     ]
    }
   ],
   "source": [
    "print(monoExp(190, m, t, b))"
   ]
  },
  {
   "cell_type": "code",
   "execution_count": null,
   "metadata": {},
   "outputs": [],
   "source": [
    "# CHO consumption for a certain time period and given intensity \n",
    "# CHO consumption for an activity (already implemented)\n",
    "# CHO consumption for an activity as accumulated graph to see impact of surges\n",
    "# FAT consumption (absolut / percentage)\n",
    "# Target cho consumption and derivation of intensity\n",
    "\n",
    "# Analyse existing data files\n",
    "\n",
    "# Analyse information out of the function itself\n"
   ]
  }
 ],
 "metadata": {
  "interpreter": {
   "hash": "7812ea015bdcee6f23a998adcdd2ef97c151c0c241b7b7070987d9313e41299d"
  },
  "kernelspec": {
   "display_name": "",
   "language": "python",
   "name": "python3"
  },
  "language_info": {
   "codemirror_mode": {
    "name": "ipython",
    "version": 3
   },
   "file_extension": ".py",
   "mimetype": "text/x-python",
   "name": "python",
   "nbconvert_exporter": "python",
   "pygments_lexer": "ipython3",
   "version": "3.9.1"
  },
  "orig_nbformat": 4
 },
 "nbformat": 4,
 "nbformat_minor": 2
}
