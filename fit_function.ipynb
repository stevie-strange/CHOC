{
 "cells": [
  {
   "cell_type": "markdown",
   "metadata": {},
   "source": [
    "## Analysis of CHO and FAT consumption for cycling activities\n",
    "\n",
    "Short abstract"
   ]
  },
  {
   "cell_type": "markdown",
   "metadata": {},
   "source": [
    "### Indirect calorimetry as starting point"
   ]
  },
  {
   "cell_type": "markdown",
   "metadata": {},
   "source": [
    "### Preparation - Import the necessary Python modules"
   ]
  },
  {
   "cell_type": "code",
   "execution_count": 12,
   "metadata": {},
   "outputs": [],
   "source": [
    "import numpy as np\n",
    "import scipy.optimize\n",
    "import matplotlib.pyplot as plt"
   ]
  },
  {
   "cell_type": "markdown",
   "metadata": {},
   "source": [
    "### Setup of basic data & create a diagram\n",
    "Currently, the data are extracted manually out of the diagram shown above."
   ]
  },
  {
   "cell_type": "code",
   "execution_count": 13,
   "metadata": {},
   "outputs": [],
   "source": [
    "# CHO consumption (g/h) vs. power output in watts\n",
    "xs = np.array([0, 75, 100, 125, 150, 175, 200, 225, 275])\n",
    "ys = np.array([21, 38, 50, 63, 83, 104, 121, 142, 250])\n",
    "\n",
    "# FAT consumption (g/h) vs. power output in watts\n",
    "xs2 = np.array([0, 125, 150, 175, 200, 225, 250, 275])\n",
    "ys2 = np.array([13, 31, 31, 33, 29, 25, 17, 0])"
   ]
  },
  {
   "cell_type": "markdown",
   "metadata": {},
   "source": [
    "### Print CHO & FAT consumption as diagram"
   ]
  },
  {
   "cell_type": "code",
   "execution_count": 14,
   "metadata": {},
   "outputs": [
    {
     "data": {
      "text/plain": [
       "<matplotlib.legend.Legend at 0x7fb29e874760>"
      ]
     },
     "execution_count": 14,
     "metadata": {},
     "output_type": "execute_result"
    },
    {
     "data": {
      "image/png": "[encoded data removed]",
      "text/plain": [
       "<Figure size 432x288 with 1 Axes>"
      ]
     },
     "metadata": {
      "needs_background": "light"
     },
     "output_type": "display_data"
    }
   ],
   "source": [
    "plt.plot(xs, ys, '.', label=\"CHO\")\n",
    "plt.plot(xs2, ys2, '+', label=\"FAT\")\n",
    "plt.title(\"Original data\")\n",
    "plt.xlabel(\"Power (watts)\")\n",
    "plt.ylabel(\"CHO/FAT (g/h)\")\n",
    "plt.legend(loc=\"upper left\")"
   ]
  },
  {
   "cell_type": "markdown",
   "metadata": {},
   "source": [
    "### Define necessary functions for fitting and quality testing"
   ]
  },
  {
   "cell_type": "code",
   "execution_count": 15,
   "metadata": {},
   "outputs": [],
   "source": [
    "def monoExp(x, m, t, b):\n",
    "    # CHO consumption is 0 beyond that wattage\n",
    "    #if x >= 275:\n",
    "    #    return 0\n",
    "    return m * np.exp(-t * x) + b\n",
    "\n",
    "def squareExp(x, a, b, c):\n",
    "    # CHO consumption is 0 beyond that wattage\n",
    "    #if x >= 275:\n",
    "    #    return 0\n",
    "    return a * np.square(x) + b * x + c\n",
    "\n",
    "def fitQuality(func, yarray):\n",
    "    sqDiffs = np.square(yarray - func)\n",
    "    sqDiffsFromMean = np.square(yarray - np.mean(yarray))\n",
    "    rSq = 1 - np.sum(sqDiffs) / np.sum(sqDiffsFromMean)\n",
    "    return rSq"
   ]
  },
  {
   "cell_type": "markdown",
   "metadata": {},
   "source": [
    "### Perform the fitting of the FAT & CHO functions"
   ]
  },
  {
   "cell_type": "code",
   "execution_count": 16,
   "metadata": {},
   "outputs": [],
   "source": [
    "# perform the fit\n",
    "p0 = (1, -0.1, 1)\n",
    "params, cv = scipy.optimize.curve_fit(monoExp, xs, ys, p0)\n",
    "m, t, b = params\n",
    "\n",
    "fit = np.polyfit(xs2, ys2, 2)\n",
    "a, d, c = fit"
   ]
  },
  {
   "cell_type": "markdown",
   "metadata": {},
   "source": [
    "### Determine the quality of the fitted curves"
   ]
  },
  {
   "cell_type": "code",
   "execution_count": 17,
   "metadata": {},
   "outputs": [
    {
     "name": "stdout",
     "output_type": "stream",
     "text": [
      "CHO fit: R² = 0.9936760064381591\n"
     ]
    }
   ],
   "source": [
    "# Quality of the CHO curve fit\n",
    "print(f\"CHO fit: R² = {fitQuality(monoExp(xs,m,t,b), ys)}\")"
   ]
  },
  {
   "cell_type": "code",
   "execution_count": 18,
   "metadata": {},
   "outputs": [
    {
     "name": "stdout",
     "output_type": "stream",
     "text": [
      "FAT fit: R² = 0.9250283256198031\n"
     ]
    }
   ],
   "source": [
    "# Quality of the FAT curve fit\n",
    "print(f\"FAT fit: R² = {fitQuality(squareExp(xs2, a,d,c), ys2)}\")"
   ]
  },
  {
   "cell_type": "markdown",
   "metadata": {},
   "source": [
    "### Plot the fitted curves"
   ]
  },
  {
   "cell_type": "code",
   "execution_count": 19,
   "metadata": {},
   "outputs": [
    {
     "data": {
      "text/plain": [
       "Text(0, 0.5, 'CHO/FAT (g/h)')"
      ]
     },
     "execution_count": 19,
     "metadata": {},
     "output_type": "execute_result"
    },
    {
     "data": {
      "image/png": "[encoded data removed]",
      "text/plain": [
       "<Figure size 432x288 with 1 Axes>"
      ]
     },
     "metadata": {
      "needs_background": "light"
     },
     "output_type": "display_data"
    }
   ],
   "source": [
    "# plot the results\n",
    "plt.plot(xs, ys, '.', label=\"data\")\n",
    "plt.plot(xs, monoExp(xs, m, t, b), '--', label=\"fitted\")\n",
    "plt.plot(xs2, ys2, '+', label=\"fatdata\")\n",
    "plt.plot(xs2, squareExp(xs2, a, d, c), '--', label=\"fat\")\n",
    "plt.title(\"Fitted Exponential Curve\")\n",
    "plt.xlabel(\"Power (watts)\")\n",
    "plt.ylabel(\"CHO/FAT (g/h)\")"
   ]
  },
  {
   "cell_type": "markdown",
   "metadata": {},
   "source": [
    "### Show the fitted functions"
   ]
  },
  {
   "cell_type": "code",
   "execution_count": 20,
   "metadata": {},
   "outputs": [
    {
     "name": "stdout",
     "output_type": "stream",
     "text": [
      "Y = 16.4082248903284 * e^(-0.009753356363022837 * x) + 6.514511413977633\n"
     ]
    }
   ],
   "source": [
    "# inspect the parameters for CHO function\n",
    "print(f\"Y = {m} * e^({t} * x) + {b}\")"
   ]
  },
  {
   "cell_type": "code",
   "execution_count": 21,
   "metadata": {},
   "outputs": [
    {
     "name": "stdout",
     "output_type": "stream",
     "text": [
      "Y = -0.001365079365079365 * x^2 + 0.34968253968253976 * x + 11.94444444444439\n"
     ]
    }
   ],
   "source": [
    "# inspect the parameters for FAT function\n",
    "print(f\"Y = {a} * x^2 + {d} * x + {c}\")"
   ]
  },
  {
   "cell_type": "code",
   "execution_count": 22,
   "metadata": {},
   "outputs": [
    {
     "data": {
      "text/plain": [
       "Text(0, 0.5, 'CHO (g/h)')"
      ]
     },
     "execution_count": 22,
     "metadata": {},
     "output_type": "execute_result"
    },
    {
     "data": {
      "image/png": "[encoded data removed]",
      "text/plain": [
       "<Figure size 432x288 with 1 Axes>"
      ]
     },
     "metadata": {
      "needs_background": "light"
     },
     "output_type": "display_data"
    }
   ],
   "source": [
    "xs2 = np.arange(150,500,25)\n",
    "ys2 = monoExp(xs2, m, t, b)\n",
    "\n",
    "plt.plot(xs, ys, '.', label=\"data\")\n",
    "plt.plot(xs2, ys2, '--', label=\"fitted\")\n",
    "plt.title(\"Extrapolated Exponential Curve\")\n",
    "plt.xlabel(\"Power (watts)\")\n",
    "plt.ylabel(\"CHO (g/h)\")"
   ]
  },
  {
   "cell_type": "markdown",
   "metadata": {},
   "source": [
    "Use Case: CHO/FAT consumption for a specific wattage"
   ]
  },
  {
   "cell_type": "code",
   "execution_count": 23,
   "metadata": {},
   "outputs": [
    {
     "name": "stdout",
     "output_type": "stream",
     "text": [
      "Wattage 178: CHO consumption: 100.0g/h - FAT consumption: 31.0g/h\n"
     ]
    }
   ],
   "source": [
    "# Specific wattage\n",
    "wattage = 178\n",
    "\n",
    "# Calculate and print the CHO/FAT consumption in g/h\n",
    "print(f\"Wattage {wattage}: CHO consumption: {round(monoExp(wattage,m,t,b),0)}g/h - FAT consumption: {round(squareExp(wattage, a,d,c),0)}g/h\")"
   ]
  },
  {
   "cell_type": "markdown",
   "metadata": {},
   "source": [
    "Use Case: CHO/FAT consumption for a specific wattage and duration (in hours)"
   ]
  },
  {
   "cell_type": "code",
   "execution_count": 24,
   "metadata": {},
   "outputs": [
    {
     "name": "stdout",
     "output_type": "stream",
     "text": [
      "Consumption for 2h at 100 watts\n",
      "CHO: 100.0g - FAT: 66.0g\n",
      "Calories: 400.0 594.0\n",
      "Total calories: 994.0\n"
     ]
    }
   ],
   "source": [
    "# Specific wattage\n",
    "wattage = 100\n",
    "\n",
    "# duration in hours\n",
    "duration = 2\n",
    "\n",
    "# Calculate and print the CHO/FAT consumption in g/h\n",
    "cho = duration * round(monoExp(wattage,m,t,b),0)\n",
    "fat = duration * round(squareExp(wattage, a,d,c),0)\n",
    "\n",
    "# Total calories\n",
    "total_cal = 4*cho + 9*fat\n",
    "\n",
    "print(f\"Consumption for {duration}h at {wattage} watts\\nCHO: {cho}g - FAT: {fat}g\\nCalories: {cho*4} {fat*9}\\nTotal calories: {total_cal}\")"
   ]
  },
  {
   "cell_type": "markdown",
   "metadata": {},
   "source": [
    "Use Case: Target CHO consumption"
   ]
  },
  {
   "cell_type": "code",
   "execution_count": 25,
   "metadata": {},
   "outputs": [
    {
     "name": "stdout",
     "output_type": "stream",
     "text": [
      "Target intensity = 195.0 watts for 3 hours\n"
     ]
    }
   ],
   "source": [
    "# target CHO consumption in g/h\n",
    "target_cho = 350\n",
    "\n",
    "# estimated duration of activity\n",
    "target_duration = 3\n",
    "cho_h = target_cho / target_duration\n",
    "x = round((np.log((cho_h-b)/m)) / -t, 0)\n",
    "\n",
    "print(f\"Target intensity = {x} watts for {target_duration} hours\")"
   ]
  },
  {
   "cell_type": "code",
   "execution_count": 33,
   "metadata": {},
   "outputs": [
    {
     "name": "stdout",
     "output_type": "stream",
     "text": [
      "Max FAT consumotion = 128.081395348837 watts , 34.3383582502768 g/h FAT\n"
     ]
    }
   ],
   "source": [
    "import sympy as sy\n",
    "\n",
    "x = sy.symbols('x')\n",
    "function = a * x**2 + d * x + c\n",
    "#function2 = sy.S(function)\n",
    "\n",
    "\n",
    "function_diff1 = sy.diff(function, x, 1)\n",
    "\n",
    "extremes = sy.solve(sy.Eq(function_diff1, 0))\n",
    "x_0 = extremes[0]\n",
    "y_0 = squareExp(x_0, a, d, c)\n",
    "#y_0 = function2.subs(x, x_0)\n",
    "#print(extremes)\n",
    "\n",
    "print(f\"Max FAT consumotion = {x_0} watts , {y_0} g/h FAT\")"
   ]
  },
  {
   "cell_type": "code",
   "execution_count": null,
   "metadata": {},
   "outputs": [],
   "source": [
    "# CHO consumption for an activity as accumulated graph to see impact of surges\n",
    "# FAT consumption (absolut / percentage)\n",
    "# Determination of highest FAT consumption in watts\n",
    "\n",
    "# Analyse existing data files\n",
    "\n",
    "# Analyse information out of the function itself\n"
   ]
  }
 ],
 "metadata": {
  "interpreter": {
   "hash": "7812ea015bdcee6f23a998adcdd2ef97c151c0c241b7b7070987d9313e41299d"
  },
  "kernelspec": {
   "display_name": "",
   "language": "python",
   "name": "python3"
  },
  "language_info": {
   "codemirror_mode": {
    "name": "ipython",
    "version": 3
   },
   "file_extension": ".py",
   "mimetype": "text/x-python",
   "name": "python",
   "nbconvert_exporter": "python",
   "pygments_lexer": "ipython3",
   "version": "3.9.1"
  },
  "orig_nbformat": 4
 },
 "nbformat": 4,
 "nbformat_minor": 2
}
